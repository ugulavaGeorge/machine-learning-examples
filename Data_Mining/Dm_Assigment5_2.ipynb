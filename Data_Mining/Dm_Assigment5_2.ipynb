{
 "cells": [
  {
   "cell_type": "markdown",
   "metadata": {},
   "source": [
    "# Ugulava George Assignment 5 part 2: recommendation systems."
   ]
  },
  {
   "cell_type": "markdown",
   "metadata": {},
   "source": [
    "# Factorization Machines Model"
   ]
  },
  {
   "cell_type": "markdown",
   "metadata": {},
   "source": [
    "## Factorization machines (FM) are a generic approach that allows to mimic most factorization models by feature engineering.Model uses stochastic gradient descent with adaptive regularization as a learning method, which adapts the regularization automatically while training the model parameters.This way, factorization machines combine the generality of feature engineering with the superiority of factorization models in estimating interactions between categorical variables of large domain."
   ]
  },
  {
   "cell_type": "code",
   "execution_count": 1,
   "metadata": {
    "collapsed": false
   },
   "outputs": [],
   "source": [
    "from pyfm import pylibfm\n",
    "import numpy as np\n",
    "from sklearn.feature_extraction import DictVectorizer\n",
    "from sklearn.metrics import mean_squared_error"
   ]
  },
  {
   "cell_type": "markdown",
   "metadata": {
    "collapsed": false
   },
   "source": [
    "# Manual preprocessing"
   ]
  },
  {
   "cell_type": "code",
   "execution_count": 2,
   "metadata": {
    "collapsed": true
   },
   "outputs": [],
   "source": [
    "def loadData(filename,path=\"ml-100k/\"):\n",
    "    data = []\n",
    "    y = []\n",
    "    users=set()\n",
    "    items=set()\n",
    "    with open(path+filename) as f:\n",
    "        for line in f:\n",
    "            (user,movieid,rating,ts)=line.split('\\t')\n",
    "            data.append({ \"user_id\": str(user), \"movie_id\": str(movieid)})\n",
    "            y.append(float(rating))\n",
    "            users.add(user)\n",
    "            items.add(movieid)\n",
    "\n",
    "    return (data, np.array(y), users, items)"
   ]
  },
  {
   "cell_type": "markdown",
   "metadata": {},
   "source": [
    "# Build model and evaluate. "
   ]
  },
  {
   "cell_type": "code",
   "execution_count": 3,
   "metadata": {
    "collapsed": false
   },
   "outputs": [],
   "source": [
    "from math import sqrt\n",
    "def predict_recommendations(file_train, file_test):\n",
    "    (train_data, y_train, train_users, train_items) = loadData(file_train)\n",
    "    vectorizer = DictVectorizer()\n",
    "    X_train = vectorizer.fit_transform(train_data)\n",
    "    fm = pylibfm.FM(num_factors = 10, num_iter = 120, verbose = False, \n",
    "            task = \"regression\", initial_learning_rate = 0.002,\n",
    "            learning_rate_schedule = \"optimal\")\n",
    "    fm.fit(X_train, y_train)\n",
    "    (test_data, y_test, test_users, test_items) = loadData(file_test)\n",
    "    X_test = vectorizer.transform(test_data)\n",
    "    predictions = fm.predict(X_test)\n",
    "    return sqrt(mean_squared_error(y_test,predictions))"
   ]
  },
  {
   "cell_type": "markdown",
   "metadata": {},
   "source": [
    "# Run test for each fold. "
   ]
  },
  {
   "cell_type": "code",
   "execution_count": 4,
   "metadata": {
    "collapsed": false
   },
   "outputs": [
    {
     "name": "stdout",
     "output_type": "stream",
     "text": [
      "rmse fold  1 =  0.9314198672688792\n",
      "rmse fold  2 =  0.9213435090036229\n",
      "rmse fold  3 =  0.9136178277018069\n",
      "rmse fold  4 =  0.9157348931885633\n",
      "rmse fold  5 =  0.916640313089146\n",
      "RMSE = 0.9198\n"
     ]
    }
   ],
   "source": [
    "tests = [('u1.base','u1.test'),('u2.base','u2.test'),\n",
    "        ('u3.base','u3.test'),('u4.base','u4.test'),\n",
    "        ('u5.base','u5.test')]\n",
    "rmse = 0\n",
    "i = 0\n",
    "for train,test in tests:\n",
    "    i += 1\n",
    "    pred = predict_recommendations(train,test)\n",
    "    rmse += pred\n",
    "    print('rmse fold ', i, '= ', pred)\n",
    "rmse = rmse/5\n",
    "print(\"RMSE = %.4f\" %rmse)"
   ]
  }
 ],
 "metadata": {
  "anaconda-cloud": {},
  "kernelspec": {
   "display_name": "Python [Root]",
   "language": "python",
   "name": "Python [Root]"
  },
  "language_info": {
   "codemirror_mode": {
    "name": "ipython",
    "version": 3
   },
   "file_extension": ".py",
   "mimetype": "text/x-python",
   "name": "python",
   "nbconvert_exporter": "python",
   "pygments_lexer": "ipython3",
   "version": "3.5.2"
  }
 },
 "nbformat": 4,
 "nbformat_minor": 0
}
