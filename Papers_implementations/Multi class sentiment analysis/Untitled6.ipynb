{
 "cells": [
  {
   "cell_type": "code",
   "execution_count": 15,
   "metadata": {
    "collapsed": true
   },
   "outputs": [],
   "source": [
    "import pandas as pd\n",
    "from nltk import word_tokenize\n",
    "from nltk.stem import WordNetLemmatizer\n",
    "from nltk.stem import PorterStemmer\n",
    "from sklearn.feature_extraction.text import TfidfVectorizer\n",
    "from sklearn.ensemble import RandomForestClassifier"
   ]
  },
  {
   "cell_type": "code",
   "execution_count": 10,
   "metadata": {
    "collapsed": true
   },
   "outputs": [],
   "source": [
    "train_raw_data = pd.read_csv(\"train_raw_data.csv\", sep = '\\t')\n",
    "test_raw_data = pd.read_csv(\"test_raw_data.csv\", sep = '\\t') \n",
    "y_train = pd.read_csv(\"y_train.csv\", sep = '\\t' )\n",
    "y_test = pd.read_csv(\"y_test.csv\", sep = '\\t' )\n",
    "features_for_train = pd.read_csv(\"features_for_train.csv\", sep = '\\t')\n",
    "features_for_test = pd.read_csv(\"features_for_test.csv\", sep = ',')\n",
    "features_for_test.drop('A', axis = 1, inplace = True)#has another format\n",
    "features_for_test['9'] = features_for_test['9'].map({False : 0.0, True : 1.0})\n",
    "features_for_train['9'] = features_for_train['9'].map({False : 0.0, True : 1.0})"
   ]
  },
  {
   "cell_type": "code",
   "execution_count": 11,
   "metadata": {
    "collapsed": false
   },
   "outputs": [],
   "source": [
    "def preprocess_sentence(sentence):\n",
    "    lemmatizer = WordNetLemmatizer()\n",
    "    stemmer = None #PorterStemmer()\n",
    "    tokens = word_tokenize(sentence)\n",
    "    lemmas = []\n",
    "    skip = False\n",
    "    for i in range(len(tokens)):\n",
    "        if tokens[i] == '@':\n",
    "            skip = True\n",
    "        elif skip:\n",
    "            skip = False\n",
    "        else:\n",
    "            lemmas.append(lemmatizer.lemmatize(tokens[i])) \n",
    "    stems = []\n",
    "    if stemmer != None:\n",
    "        for lemma in lemmas:\n",
    "            stems.append(stemmer.stem(lemma))\n",
    "        return \" \".join(stems)\n",
    "    return \" \".join(lemmas)\n",
    "\n",
    "train_raw_data['content'] = list(map(preprocess_sentence, train_raw_data['content']))\n",
    "test_raw_data['content'] = list(map(preprocess_sentence, test_raw_data['content']))\n",
    "vectorizer = TfidfVectorizer(stop_words = 'english')\n",
    "X_train_TF = pd.DataFrame(vectorizer.fit_transform(train_raw_data['content']).todense())\n",
    "X_test_TF = pd.DataFrame(vectorizer.transform(test_raw_data['content']).todense())\n",
    "X_train = pd.merge(X_train_TF, features_for_train, how='outer', left_index=True, right_index=True)\n",
    "X_test = pd.merge(X_test_TF, features_for_test, how='outer', left_index=True, right_index=True)"
   ]
  },
  {
   "cell_type": "code",
   "execution_count": 19,
   "metadata": {
    "collapsed": false
   },
   "outputs": [
    {
     "name": "stderr",
     "output_type": "stream",
     "text": [
      "/home/george/anaconda3/lib/python3.5/site-packages/ipykernel/__main__.py:2: DataConversionWarning: A column-vector y was passed when a 1d array was expected. Please change the shape of y to (n_samples,), for example using ravel().\n",
      "  from ipykernel import kernelapp as app\n"
     ]
    },
    {
     "name": "stdout",
     "output_type": "stream",
     "text": [
      "0.438448028102\n"
     ]
    }
   ],
   "source": [
    "random_forest = RandomForestClassifier(n_estimators = 25, criterion = 'gini')\n",
    "random_forest.fit(X_train.as_matrix(), y_train.as_matrix())\n",
    "print(random_forest.score(X_test.as_matrix(), y_test.as_matrix()))"
   ]
  },
  {
   "cell_type": "code",
   "execution_count": null,
   "metadata": {
    "collapsed": true
   },
   "outputs": [],
   "source": []
  }
 ],
 "metadata": {
  "kernelspec": {
   "display_name": "Python [Root]",
   "language": "python",
   "name": "Python [Root]"
  },
  "language_info": {
   "codemirror_mode": {
    "name": "ipython",
    "version": 3
   },
   "file_extension": ".py",
   "mimetype": "text/x-python",
   "name": "python",
   "nbconvert_exporter": "python",
   "pygments_lexer": "ipython3",
   "version": "3.5.2"
  }
 },
 "nbformat": 4,
 "nbformat_minor": 0
}
