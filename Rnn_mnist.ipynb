{
 "cells": [
  {
   "cell_type": "code",
   "execution_count": 1,
   "metadata": {
    "collapsed": false
   },
   "outputs": [
    {
     "name": "stdout",
     "output_type": "stream",
     "text": [
      "Extracting MNIST_data/train-images-idx3-ubyte.gz\n",
      "Extracting MNIST_data/train-labels-idx1-ubyte.gz\n",
      "Extracting MNIST_data/t10k-images-idx3-ubyte.gz\n",
      "Extracting MNIST_data/t10k-labels-idx1-ubyte.gz\n"
     ]
    }
   ],
   "source": [
    "import tensorflow as tf\n",
    "from tensorflow.contrib import rnn\n",
    "import numpy as np\n",
    "# Import MINST data\n",
    "from tensorflow.examples.tutorials.mnist import input_data\n",
    "mnist = input_data.read_data_sets(\"MNIST_data/\", one_hot=True)"
   ]
  },
  {
   "cell_type": "code",
   "execution_count": 2,
   "metadata": {
    "collapsed": false
   },
   "outputs": [
    {
     "name": "stdout",
     "output_type": "stream",
     "text": [
      "(?, 28, 28)\n",
      "(?, 10)\n"
     ]
    }
   ],
   "source": [
    "# Parameters\n",
    "learning_rate = 0.001\n",
    "training_iters = 100000\n",
    "batch_size = 128\n",
    "display_step = 10\n",
    "\n",
    "# Network Parameters\n",
    "n_input = 28 # MNIST data input (img shape: 28*28)\n",
    "n_steps = 28 # timesteps\n",
    "n_hidden = 128 # hidden layer num of features\n",
    "n_classes = 10 # MNIST total classes (0-9 digits)\n",
    "\n",
    "# tf Graph input\n",
    "x = tf.placeholder(\"float\", [None, n_steps, n_input])\n",
    "print(x.get_shape())\n",
    "y = tf.placeholder(\"float\", [None, n_classes])\n",
    "print(y.get_shape())\n",
    "# Define weights\n",
    "weights = {\n",
    "    'out': tf.Variable(tf.random_normal([n_hidden, n_classes]))\n",
    "}\n",
    "biases = {\n",
    "    'out': tf.Variable(tf.random_normal([n_classes]))\n",
    "}"
   ]
  },
  {
   "cell_type": "code",
   "execution_count": 6,
   "metadata": {
    "collapsed": false
   },
   "outputs": [
    {
     "name": "stdout",
     "output_type": "stream",
     "text": [
      "(28, ?, 28)\n",
      "(?, 28)\n",
      "28\n",
      "(?, 28)\n"
     ]
    }
   ],
   "source": [
    "def RNN(x, weights, biases):\n",
    "\n",
    "    # Prepare data shape to match `rnn` function requirements\n",
    "    # Current data input shape: (batch_size, n_steps, n_input)\n",
    "    # Required shape: 'n_steps' tensors list of shape (batch_size, n_input)\n",
    "    \n",
    "    # Permuting batch_size and n_steps\n",
    "    x = tf.transpose(x, [1, 0, 2])\n",
    "    print(x.get_shape())\n",
    "    # Reshaping to (n_steps*batch_size, n_input)\n",
    "    x = tf.reshape(x, [-1, n_input])\n",
    "    print(x.get_shape())\n",
    "    # Split to get a list of 'n_steps' tensors of shape (batch_size, n_input)\n",
    "    # x = tf.split(x, n_steps, 0)\n",
    "    x = tf.split(0, n_steps, x)\n",
    "    print(len(x))\n",
    "    print(x[0].get_shape())\n",
    "    # Define a lstm cell with tensorflow\n",
    "    lstm_cell = tf.nn.rnn_cell.BasicLSTMCell(n_hidden, forget_bias=1.0)\n",
    "\n",
    "    # Get lstm cell output\n",
    "    outputs, states = tf.nn.rnn(lstm_cell, x, dtype=tf.float32)\n",
    "\n",
    "    # Linear activation, using rnn inner loop last output\n",
    "    return tf.matmul(outputs[-1], weights['out']) + biases['out']\n",
    "\n",
    "pred = RNN(x, weights, biases)\n",
    "\n",
    "# Define loss and optimizer\n",
    "cost = tf.reduce_mean(tf.nn.softmax_cross_entropy_with_logits(logits=pred, labels=y))\n",
    "optimizer = tf.train.AdamOptimizer(learning_rate=learning_rate).minimize(cost)\n",
    "\n",
    "# Evaluate model\n",
    "correct_pred = tf.equal(tf.argmax(pred,1), tf.argmax(y,1))\n",
    "accuracy = tf.reduce_mean(tf.cast(correct_pred, tf.float32))\n",
    "\n",
    "# Initializing the variables\n",
    "init = tf.global_variables_initializer()"
   ]
  },
  {
   "cell_type": "code",
   "execution_count": 7,
   "metadata": {
    "collapsed": false
   },
   "outputs": [
    {
     "name": "stdout",
     "output_type": "stream",
     "text": [
      "Iter 1280, Minibatch Loss= 1.687786, Training Accuracy= 0.42188\n",
      "Iter 2560, Minibatch Loss= 1.384425, Training Accuracy= 0.58594\n",
      "Iter 3840, Minibatch Loss= 1.062889, Training Accuracy= 0.65625\n",
      "Iter 5120, Minibatch Loss= 0.908316, Training Accuracy= 0.72656\n",
      "Iter 6400, Minibatch Loss= 0.764098, Training Accuracy= 0.77344\n",
      "Iter 7680, Minibatch Loss= 1.044616, Training Accuracy= 0.62500\n",
      "Iter 8960, Minibatch Loss= 0.816776, Training Accuracy= 0.72656\n",
      "Iter 10240, Minibatch Loss= 0.550322, Training Accuracy= 0.83594\n",
      "Iter 11520, Minibatch Loss= 0.379904, Training Accuracy= 0.89062\n",
      "Iter 12800, Minibatch Loss= 0.690672, Training Accuracy= 0.77344\n",
      "Iter 14080, Minibatch Loss= 0.449672, Training Accuracy= 0.86719\n",
      "Iter 15360, Minibatch Loss= 0.345327, Training Accuracy= 0.88281\n",
      "Iter 16640, Minibatch Loss= 0.436947, Training Accuracy= 0.90625\n",
      "Iter 17920, Minibatch Loss= 0.304931, Training Accuracy= 0.90625\n",
      "Iter 19200, Minibatch Loss= 0.258700, Training Accuracy= 0.91406\n",
      "Iter 20480, Minibatch Loss= 0.164981, Training Accuracy= 0.93750\n",
      "Iter 21760, Minibatch Loss= 0.466520, Training Accuracy= 0.81250\n",
      "Iter 23040, Minibatch Loss= 0.139484, Training Accuracy= 0.93750\n",
      "Iter 24320, Minibatch Loss= 0.378066, Training Accuracy= 0.87500\n",
      "Iter 25600, Minibatch Loss= 0.328327, Training Accuracy= 0.89844\n",
      "Iter 26880, Minibatch Loss= 0.197349, Training Accuracy= 0.92188\n",
      "Iter 28160, Minibatch Loss= 0.315836, Training Accuracy= 0.85938\n",
      "Iter 29440, Minibatch Loss= 0.282682, Training Accuracy= 0.91406\n",
      "Iter 30720, Minibatch Loss= 0.225068, Training Accuracy= 0.92188\n",
      "Iter 32000, Minibatch Loss= 0.222515, Training Accuracy= 0.96094\n",
      "Iter 33280, Minibatch Loss= 0.251917, Training Accuracy= 0.92188\n",
      "Iter 34560, Minibatch Loss= 0.227828, Training Accuracy= 0.93750\n",
      "Iter 35840, Minibatch Loss= 0.192259, Training Accuracy= 0.95312\n",
      "Iter 37120, Minibatch Loss= 0.298642, Training Accuracy= 0.90625\n",
      "Iter 38400, Minibatch Loss= 0.149973, Training Accuracy= 0.94531\n",
      "Iter 39680, Minibatch Loss= 0.146149, Training Accuracy= 0.93750\n",
      "Iter 40960, Minibatch Loss= 0.299187, Training Accuracy= 0.90625\n",
      "Iter 42240, Minibatch Loss= 0.145860, Training Accuracy= 0.94531\n",
      "Iter 43520, Minibatch Loss= 0.128058, Training Accuracy= 0.95312\n",
      "Iter 44800, Minibatch Loss= 0.176507, Training Accuracy= 0.92969\n",
      "Iter 46080, Minibatch Loss= 0.108845, Training Accuracy= 0.95312\n",
      "Iter 47360, Minibatch Loss= 0.222065, Training Accuracy= 0.92969\n",
      "Iter 48640, Minibatch Loss= 0.285412, Training Accuracy= 0.89062\n",
      "Iter 49920, Minibatch Loss= 0.196007, Training Accuracy= 0.93750\n",
      "Iter 51200, Minibatch Loss= 0.115092, Training Accuracy= 0.94531\n",
      "Iter 52480, Minibatch Loss= 0.132984, Training Accuracy= 0.95312\n",
      "Iter 53760, Minibatch Loss= 0.048814, Training Accuracy= 0.98438\n",
      "Iter 55040, Minibatch Loss= 0.085332, Training Accuracy= 0.98438\n",
      "Iter 56320, Minibatch Loss= 0.187390, Training Accuracy= 0.95312\n",
      "Iter 57600, Minibatch Loss= 0.063577, Training Accuracy= 0.98438\n",
      "Iter 58880, Minibatch Loss= 0.140370, Training Accuracy= 0.96094\n",
      "Iter 60160, Minibatch Loss= 0.192538, Training Accuracy= 0.95312\n",
      "Iter 61440, Minibatch Loss= 0.095501, Training Accuracy= 0.96094\n",
      "Iter 62720, Minibatch Loss= 0.120480, Training Accuracy= 0.96094\n",
      "Iter 64000, Minibatch Loss= 0.110136, Training Accuracy= 0.97656\n",
      "Iter 65280, Minibatch Loss= 0.112726, Training Accuracy= 0.96875\n",
      "Iter 66560, Minibatch Loss= 0.116426, Training Accuracy= 0.93750\n",
      "Iter 67840, Minibatch Loss= 0.089489, Training Accuracy= 0.98438\n",
      "Iter 69120, Minibatch Loss= 0.115478, Training Accuracy= 0.96875\n",
      "Iter 70400, Minibatch Loss= 0.155764, Training Accuracy= 0.96094\n",
      "Iter 71680, Minibatch Loss= 0.203672, Training Accuracy= 0.92969\n",
      "Iter 72960, Minibatch Loss= 0.097312, Training Accuracy= 0.96094\n",
      "Iter 74240, Minibatch Loss= 0.184039, Training Accuracy= 0.93750\n",
      "Iter 75520, Minibatch Loss= 0.084531, Training Accuracy= 0.96875\n",
      "Iter 76800, Minibatch Loss= 0.128953, Training Accuracy= 0.96875\n",
      "Iter 78080, Minibatch Loss= 0.123741, Training Accuracy= 0.93750\n",
      "Iter 79360, Minibatch Loss= 0.085051, Training Accuracy= 0.97656\n",
      "Iter 80640, Minibatch Loss= 0.185188, Training Accuracy= 0.94531\n",
      "Iter 81920, Minibatch Loss= 0.275334, Training Accuracy= 0.92969\n",
      "Iter 83200, Minibatch Loss= 0.062406, Training Accuracy= 0.98438\n",
      "Iter 84480, Minibatch Loss= 0.079328, Training Accuracy= 0.97656\n",
      "Iter 85760, Minibatch Loss= 0.141749, Training Accuracy= 0.96094\n",
      "Iter 87040, Minibatch Loss= 0.043726, Training Accuracy= 0.99219\n",
      "Iter 88320, Minibatch Loss= 0.092527, Training Accuracy= 0.96094\n",
      "Iter 89600, Minibatch Loss= 0.072434, Training Accuracy= 0.97656\n",
      "Iter 90880, Minibatch Loss= 0.100715, Training Accuracy= 0.95312\n",
      "Iter 92160, Minibatch Loss= 0.059154, Training Accuracy= 0.96875\n",
      "Iter 93440, Minibatch Loss= 0.093595, Training Accuracy= 0.96094\n",
      "Iter 94720, Minibatch Loss= 0.174897, Training Accuracy= 0.93750\n",
      "Iter 96000, Minibatch Loss= 0.041493, Training Accuracy= 0.99219\n",
      "Iter 97280, Minibatch Loss= 0.149458, Training Accuracy= 0.94531\n",
      "Iter 98560, Minibatch Loss= 0.141274, Training Accuracy= 0.95312\n",
      "Iter 99840, Minibatch Loss= 0.118469, Training Accuracy= 0.96875\n",
      "Optimization Finished!\n",
      "Testing Accuracy: 0.984375\n"
     ]
    }
   ],
   "source": [
    "# Launch the graph\n",
    "with tf.Session() as sess:\n",
    "    sess.run(init)\n",
    "    step = 1\n",
    "    # Keep training until reach max iterations\n",
    "    while step * batch_size < training_iters:\n",
    "        batch_x, batch_y = mnist.train.next_batch(batch_size)\n",
    "        # Reshape data to get 28 seq of 28 elements\n",
    "        batch_x = batch_x.reshape((batch_size, n_steps, n_input))\n",
    "        \n",
    "        # Run optimization op (backprop)\n",
    "        sess.run(optimizer, feed_dict={x: batch_x, y: batch_y})\n",
    "        if step % display_step == 0:\n",
    "            # Calculate batch accuracy\n",
    "            acc = sess.run(accuracy, feed_dict={x: batch_x, y: batch_y})\n",
    "            # Calculate batch loss\n",
    "            loss = sess.run(cost, feed_dict={x: batch_x, y: batch_y})\n",
    "            print (\"Iter \" + str(step*batch_size) + \", Minibatch Loss= \" + \\\n",
    "                  \"{:.6f}\".format(loss) + \", Training Accuracy= \" + \\\n",
    "                  \"{:.5f}\".format(acc))\n",
    "        step += 1\n",
    "    print (\"Optimization Finished!\")\n",
    "\n",
    "    # Calculate accuracy for 128 mnist test images\n",
    "    test_len = 128\n",
    "    test_data = mnist.test.images[:test_len].reshape((-1, n_steps, n_input))\n",
    "    test_label = mnist.test.labels[:test_len]\n",
    "    print (\"Testing Accuracy:\", \\\n",
    "        sess.run(accuracy, feed_dict={x: test_data, y: test_label}))"
   ]
  },
  {
   "cell_type": "code",
   "execution_count": 8,
   "metadata": {
    "collapsed": false
   },
   "outputs": [
    {
     "name": "stdout",
     "output_type": "stream",
     "text": [
      "(128, 784)\n",
      "(128, 28, 28)\n"
     ]
    }
   ],
   "source": [
    "batch_x, batch_y = mnist.train.next_batch(batch_size)\n",
    "print(batch_x.shape)\n",
    "batch_x = batch_x.reshape((batch_size, n_steps, n_input))\n",
    "print(batch_x.shape)"
   ]
  },
  {
   "cell_type": "code",
   "execution_count": 11,
   "metadata": {
    "collapsed": false
   },
   "outputs": [
    {
     "name": "stdout",
     "output_type": "stream",
     "text": [
      "[ 0.  0.  0.  0.  0.  0.  0.  1.  0.  0.]\n"
     ]
    }
   ],
   "source": [
    "print(mnist.test.labels[0])"
   ]
  },
  {
   "cell_type": "code",
   "execution_count": null,
   "metadata": {
    "collapsed": true
   },
   "outputs": [],
   "source": []
  }
 ],
 "metadata": {
  "anaconda-cloud": {},
  "kernelspec": {
   "display_name": "Python [Root]",
   "language": "python",
   "name": "Python [Root]"
  },
  "language_info": {
   "codemirror_mode": {
    "name": "ipython",
    "version": 3
   },
   "file_extension": ".py",
   "mimetype": "text/x-python",
   "name": "python",
   "nbconvert_exporter": "python",
   "pygments_lexer": "ipython3",
   "version": "3.5.2"
  }
 },
 "nbformat": 4,
 "nbformat_minor": 0
}
