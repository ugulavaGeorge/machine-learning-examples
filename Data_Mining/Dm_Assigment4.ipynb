{
 "cells": [
  {
   "cell_type": "markdown",
   "metadata": {},
   "source": [
    "# Ugulava George Assignment 4 : Outlier analysis."
   ]
  },
  {
   "cell_type": "code",
   "execution_count": 1,
   "metadata": {
    "collapsed": false
   },
   "outputs": [],
   "source": [
    "import numpy as np\n",
    "import matplotlib.pyplot as plt\n",
    "from sklearn.cluster import DBSCAN,KMeans\n",
    "import pandas as pd\n",
    "%matplotlib inline\n",
    "from sklearn.neighbors import NearestNeighbors\n",
    "from collections import Counter"
   ]
  },
  {
   "cell_type": "code",
   "execution_count": 2,
   "metadata": {
    "collapsed": false
   },
   "outputs": [],
   "source": [
    "data = pd.read_excel('Online Retail.xlsx')"
   ]
  },
  {
   "cell_type": "markdown",
   "metadata": {
    "collapsed": false
   },
   "source": [
    "# Global outliers."
   ]
  },
  {
   "cell_type": "code",
   "execution_count": 3,
   "metadata": {
    "collapsed": false
   },
   "outputs": [
    {
     "name": "stdout",
     "output_type": "stream",
     "text": [
      "6450\n"
     ]
    }
   ],
   "source": [
    "X = data.copy()\n",
    "del X['InvoiceNo']\n",
    "del X['StockCode']\n",
    "del X['Description']\n",
    "del X['InvoiceDate']\n",
    "del X['CustomerID']\n",
    "del X['Country']\n",
    "colors = np.array(['r','g','b','c','m','y'])\n",
    "uniq = []\n",
    "# WE add only uniq pairs of attributes Quantity and UnitPrice.\n",
    "# Also from common sence we know that Quantity and UnitPrice\n",
    "# cannot be negative.(we do not add noice to clusterization)\n",
    "for x,y in X.as_matrix():\n",
    "    if ([x,y] not in uniq and x > 0 and y > 0):\n",
    "        uniq.append([x,y])\n",
    "print(len(uniq))"
   ]
  },
  {
   "cell_type": "code",
   "execution_count": 4,
   "metadata": {
    "collapsed": false
   },
   "outputs": [
    {
     "name": "stdout",
     "output_type": "stream",
     "text": [
      "Counter({0: 6445, -1: 5})\n"
     ]
    }
   ],
   "source": [
    "labels = DBSCAN(eps = 2000,min_samples = 100).fit_predict(uniq)\n",
    "print(Counter(labels))\n",
    "# outliers has label -1"
   ]
  },
  {
   "cell_type": "code",
   "execution_count": 5,
   "metadata": {
    "collapsed": false
   },
   "outputs": [
    {
     "data": {
      "image/png": "[encoded data removed]",
      "text/plain": [
       "<matplotlib.figure.Figure at 0x7f9fa7ed4588>"
      ]
     },
     "metadata": {},
     "output_type": "display_data"
    }
   ],
   "source": [
    "# visualization\n",
    "i = 0\n",
    "for [x,y] in uniq:\n",
    "    color = colors[labels[i]]\n",
    "    if labels[i] == -1:\n",
    "        color = 'b'\n",
    "    plt.plot(x,y, 'o', markerfacecolor = color, markersize = 7)\n",
    "    i += 1 \n",
    "plt.show()"
   ]
  },
  {
   "cell_type": "markdown",
   "metadata": {},
   "source": [
    "## This tuples are outliers because on the picture we can that diffrence in values with the rest is not just significant it is enormous.(Used method - dbscan clustering, working with density of objects in a space. I took Quality and UnitPrice because id's are meaningles and counrys will be described below)"
   ]
  },
  {
   "cell_type": "markdown",
   "metadata": {},
   "source": [
    "# Contextual outliers"
   ]
  },
  {
   "cell_type": "markdown",
   "metadata": {},
   "source": [
    "## The most interesting in this data set unpredictable became the counry feature."
   ]
  },
  {
   "cell_type": "code",
   "execution_count": 13,
   "metadata": {
    "collapsed": false
   },
   "outputs": [
    {
     "name": "stdout",
     "output_type": "stream",
     "text": [
      "Australia  :  1259\n",
      "Lithuania  :  35\n",
      "Lebanon  :  45\n",
      "Saudi Arabia  :  10\n",
      "Austria  :  401\n",
      "Hong Kong  :  288\n",
      "Denmark  :  389\n",
      "Sweden  :  462\n",
      "United Kingdom  :  495478\n",
      "Switzerland  :  2002\n",
      "France  :  8557\n",
      "Japan  :  358\n",
      "Iceland  :  182\n",
      "Belgium  :  2069\n",
      "Singapore  :  229\n",
      "Israel  :  297\n",
      "USA  :  291\n",
      "RSA  :  58\n",
      "Norway  :  1086\n",
      "Poland  :  341\n",
      "Bahrain  :  19\n",
      "EIRE  :  8196\n",
      "Spain  :  2533\n",
      "Unspecified  :  446\n",
      "Brazil  :  32\n",
      "Cyprus  :  622\n",
      "Channel Islands  :  758\n",
      "Netherlands  :  2371\n",
      "Portugal  :  1519\n",
      "Canada  :  151\n",
      "Greece  :  146\n",
      "Germany  :  9495\n",
      "United Arab Emirates  :  68\n",
      "Czech Republic  :  30\n",
      "Malta  :  127\n",
      "European Community  :  61\n",
      "Finland  :  695\n",
      "Italy  :  803\n"
     ]
    }
   ],
   "source": [
    "countries = data['Country']\n",
    "for country, count in Counter(countries).items():\n",
    "    print(country, ' : ' ,count)"
   ]
  },
  {
   "cell_type": "markdown",
   "metadata": {},
   "source": [
    "## Summing this we can conclude that European countries are in 538628 orders which is 99,39% of all billings. So if we are talking about country clusters EU cluster is dominat, and others(America, Australia, Asia) are contextual outliers in terms of number of bills per continent. Used method - simple statistics, which estimate number of Bills per continent."
   ]
  },
  {
   "cell_type": "markdown",
   "metadata": {},
   "source": [
    "# Collective outliers."
   ]
  },
  {
   "cell_type": "markdown",
   "metadata": {},
   "source": [
    "## So now, there are two ways now. \n",
    "### A) First is easy - continuing my context outliers  proposition. We just cluster outliers as : 1) North-South America(USA, Canada, Brazil), 2) Africa-Arabian(Lebanon,Saudi Arabia,Bahrain,United Arab Emirates), 3) Asia(Japan,Hong Kong,Singapore), 4) Australia. There are 4 clusters of utliers whithin whole outliers cluster(in terms of Country/number of bills). \n",
    "### B) Second we can run DBSCAN to find collective outliers in terms of Quantity/UnitPrice."
   ]
  },
  {
   "cell_type": "code",
   "execution_count": 7,
   "metadata": {
    "collapsed": false
   },
   "outputs": [
    {
     "name": "stdout",
     "output_type": "stream",
     "text": [
      "Counter({0: 6437, -1: 9, 1: 4})\n"
     ]
    }
   ],
   "source": [
    "labels_2 = DBSCAN(eps = 500,min_samples = 3).fit_predict(uniq)\n",
    "print(Counter(labels_2))"
   ]
  },
  {
   "cell_type": "code",
   "execution_count": 8,
   "metadata": {
    "collapsed": false
   },
   "outputs": [
    {
     "data": {
      "image/png": "[encoded data removed]",
      "text/plain": [
       "<matplotlib.figure.Figure at 0x7f9f9ca92fd0>"
      ]
     },
     "metadata": {},
     "output_type": "display_data"
    }
   ],
   "source": [
    "# visualization\n",
    "i = 0\n",
    "for [x,y] in uniq:\n",
    "    color = colors[labels_2[i]]\n",
    "    if labels_2[i] == -1:\n",
    "        color = 'b'\n",
    "    plt.plot(x,y, 'o', markerfacecolor = color, markersize = 7)\n",
    "    i += 1 \n",
    "plt.show()"
   ]
  },
  {
   "cell_type": "markdown",
   "metadata": {},
   "source": [
    "### Now green cluster is a collective outlier. So, efficency of DBSCAN depend of the epsilon and min_samples value very strong and while Processing it Build a huge N^2 matrics which costs a lot of memory, so if try to use it for example on whole data set(without removing some parametrs, noise and making value distinct) it consumes so much memory that my 12 GB RAM laptop just kill the process any time i tried:)"
   ]
  }
 ],
 "metadata": {
  "anaconda-cloud": {},
  "kernelspec": {
   "display_name": "Python [Root]",
   "language": "python",
   "name": "Python [Root]"
  },
  "language_info": {
   "codemirror_mode": {
    "name": "ipython",
    "version": 3
   },
   "file_extension": ".py",
   "mimetype": "text/x-python",
   "name": "python",
   "nbconvert_exporter": "python",
   "pygments_lexer": "ipython3",
   "version": "3.5.2"
  }
 },
 "nbformat": 4,
 "nbformat_minor": 0
}
