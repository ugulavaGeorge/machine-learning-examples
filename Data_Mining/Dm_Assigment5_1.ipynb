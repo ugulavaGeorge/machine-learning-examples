{
 "cells": [
  {
   "cell_type": "markdown",
   "metadata": {},
   "source": [
    "# Ugulava George Assignment 5 part 2: recommendation systems."
   ]
  },
  {
   "cell_type": "markdown",
   "metadata": {},
   "source": [
    "# Implementation using Graphlab"
   ]
  },
  {
   "cell_type": "code",
   "execution_count": 1,
   "metadata": {
    "collapsed": true
   },
   "outputs": [],
   "source": [
    "import pandas as pd\n",
    "import graphlab\n",
    "from sklearn.metrics import mean_squared_error\n",
    "from math import sqrt"
   ]
  },
  {
   "cell_type": "markdown",
   "metadata": {},
   "source": [
    "# Loading data in frames"
   ]
  },
  {
   "cell_type": "code",
   "execution_count": 2,
   "metadata": {
    "collapsed": false
   },
   "outputs": [
    {
     "name": "stdout",
     "output_type": "stream",
     "text": [
      "This non-commercial license of GraphLab Create for academic use is assigned to g.ugulava@innopolis.ru and will expire on November 02, 2017.\n"
     ]
    },
    {
     "name": "stderr",
     "output_type": "stream",
     "text": [
      "[INFO] graphlab.cython.cy_server: GraphLab Create v2.1 started. Logging: /tmp/graphlab_server_1478531792.log\n"
     ]
    }
   ],
   "source": [
    "columns = ['user_id','movie_id','rating','timestamp']\n",
    "train = pd.read_csv('ipython/ml-100k/u1.base', sep='\\t', \n",
    "                    names = columns, encoding = 'latin-1')\n",
    "test = pd.read_csv('ipython/ml-100k/u1.test', sep='\\t', \n",
    "                   names = columns,encoding = 'latin-1')\n",
    "X_train = graphlab.SFrame(train)\n",
    "X_test = graphlab.SFrame(test)"
   ]
  },
  {
   "cell_type": "markdown",
   "metadata": {},
   "source": [
    "# Popularity Model"
   ]
  },
  {
   "cell_type": "code",
   "execution_count": 3,
   "metadata": {
    "collapsed": false
   },
   "outputs": [
    {
     "data": {
      "text/html": [
       "<pre>Recsys training: model = popularity</pre>"
      ],
      "text/plain": [
       "Recsys training: model = popularity"
      ]
     },
     "metadata": {},
     "output_type": "display_data"
    },
    {
     "name": "stdout",
     "output_type": "stream",
     "text": [
      "RMSE for popularity model =  1.03341137142\n"
     ]
    }
   ],
   "source": [
    "popularity_model = graphlab.popularity_recommender.create(\n",
    "    X_train, user_id='user_id',item_id='movie_id', target='rating',\n",
    "    verbose = False)\n",
    "predicted = popularity_model.predict(X_test)\n",
    "rmse = sqrt(mean_squared_error(test['rating'],predicted))\n",
    "print 'RMSE for popularity model = ', rmse"
   ]
  },
  {
   "cell_type": "markdown",
   "metadata": {},
   "source": [
    "# Item based similarity model"
   ]
  },
  {
   "cell_type": "code",
   "execution_count": 4,
   "metadata": {
    "collapsed": false
   },
   "outputs": [
    {
     "data": {
      "text/html": [
       "<pre>Recsys training: model = item_similarity</pre>"
      ],
      "text/plain": [
       "Recsys training: model = item_similarity"
      ]
     },
     "metadata": {},
     "output_type": "display_data"
    }
   ],
   "source": [
    "similarity_model = graphlab.item_similarity_recommender.create(\n",
    "    X_train, user_id='user_id', item_id='movie_id', target='rating',\n",
    "    similarity_type='pearson', verbose = False)"
   ]
  },
  {
   "cell_type": "code",
   "execution_count": 5,
   "metadata": {
    "collapsed": false
   },
   "outputs": [
    {
     "name": "stdout",
     "output_type": "stream",
     "text": [
      "RMSE for item similarity model =  1.03292370816\n"
     ]
    }
   ],
   "source": [
    "predicted2 = similarity_model.predict(X_test)\n",
    "rmse = sqrt(mean_squared_error(test['rating'],predicted2))\n",
    "print 'RMSE for item similarity model = ', rmse"
   ]
  },
  {
   "cell_type": "markdown",
   "metadata": {},
   "source": [
    "# Factorization based model"
   ]
  },
  {
   "cell_type": "code",
   "execution_count": 6,
   "metadata": {
    "collapsed": false
   },
   "outputs": [
    {
     "data": {
      "text/html": [
       "<pre>Recsys training: model = factorization_recommender</pre>"
      ],
      "text/plain": [
       "Recsys training: model = factorization_recommender"
      ]
     },
     "metadata": {},
     "output_type": "display_data"
    }
   ],
   "source": [
    "factorization_model = graphlab.factorization_recommender.create(\n",
    "    X_train, user_id='user_id', item_id='movie_id', target='rating',\n",
    "    verbose = False)"
   ]
  },
  {
   "cell_type": "code",
   "execution_count": 7,
   "metadata": {
    "collapsed": false
   },
   "outputs": [
    {
     "name": "stdout",
     "output_type": "stream",
     "text": [
      "RMSE for factorization model =  0.984005135391\n"
     ]
    }
   ],
   "source": [
    "predicted3 = factorization_model.predict(X_test)\n",
    "rmse = sqrt(mean_squared_error(test['rating'],predicted3))\n",
    "print 'RMSE for factorization model = ', rmse"
   ]
  },
  {
   "cell_type": "markdown",
   "metadata": {},
   "source": [
    "# Conclusion: to win the competition we need a better models, with GraphLab we got relativly high rmse before we started optimization."
   ]
  }
 ],
 "metadata": {
  "anaconda-cloud": {},
  "kernelspec": {
   "display_name": "Python [Root]",
   "language": "python",
   "name": "Python [Root]"
  },
  "language_info": {
   "codemirror_mode": {
    "name": "ipython",
    "version": 3
   },
   "file_extension": ".py",
   "mimetype": "text/x-python",
   "name": "python",
   "nbconvert_exporter": "python",
   "pygments_lexer": "ipython3",
   "version": "3.5.2"
  }
 },
 "nbformat": 4,
 "nbformat_minor": 0
}
